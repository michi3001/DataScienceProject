{
 "cells": [
  {
   "cell_type": "code",
   "execution_count": 37,
   "metadata": {},
   "outputs": [],
   "source": [
    "import pandas as pd\n",
    "from sklearn.model_selection import train_test_split\n",
    "from sklearn.preprocessing import LabelEncoder\n",
    "from sklearn.ensemble import RandomForestClassifier\n",
    "from sklearn.metrics import accuracy_score, classification_report\n",
    "import matplotlib.pyplot as plt\n",
    "import seaborn as sns\n",
    "\n"
   ]
  },
  {
   "cell_type": "code",
   "execution_count": 38,
   "metadata": {},
   "outputs": [],
   "source": [
    "silent = True\n",
    "%run ../dataLoadAndPrepare.ipynb"
   ]
  },
  {
   "cell_type": "markdown",
   "metadata": {},
   "source": [
    "# Klassifikationsproblem\n",
    "Diamanten in eine kategorische Variable einordnen\n",
    "\n",
    "### Ziel:\n",
    "Qualität des Schliffs eines Diamanten, durch diskrete Merkmale vorherzusagen.  \n",
    "Das Modell soll in der Lage sein Diamanten in eine der Klassen der Kategorie cut einzuordnen\n",
    "\n",
    "Klassen der Kategorie `cut`:  \n",
    "- Fair\n",
    "- Good\n",
    "- Very Good\n",
    "- Premium\n",
    "- Ideal\n",
    "\n",
    "Attribute nach welchen in Klassen zugeordnet wird:\n",
    "- carat (float)\n",
    "- color (str)\n",
    "- clarity (str)\n",
    "- x (float)\n",
    "- y (float)\n",
    "- z (float)\n",
    "- depth (float)\n",
    "- table (int)\n",
    "- price (int)\n"
   ]
  },
  {
   "cell_type": "markdown",
   "metadata": {},
   "source": [
    "# Klassifikationsproblem\n",
    "Diamanten in eine kategorische Variable einordnen\n",
    "\n",
    "### Ziel:\n",
    "Qualität des Schliffs eines Diamanten, durch diskrete Merkmale vorherzusagen.  \n",
    "Das Modell soll in der Lage sein Diamanten in eine der Klassen der Kategorie cut einzuordnen\n",
    "\n",
    "Klassen der Kategorie `cut`:  \n",
    "- Fair\n",
    "- Good\n",
    "- Very Good\n",
    "- Premium\n",
    "- Ideal\n",
    "\n",
    "Attribute nach welchen in Klassen zugeordnet wird:\n",
    "- carat (float)\n",
    "- x (float)\n",
    "- y (float)\n",
    "- z (float)\n",
    "- depth (float)\n",
    "- table (int)\n",
    "- price (int)\n"
   ]
  },
  {
   "cell_type": "code",
   "execution_count": 39,
   "metadata": {},
   "outputs": [],
   "source": [
    "# # Unwichtige features entfernen\n",
    "# df = df.drop(columns=['clarity', 'color', 'carat'])"
   ]
  },
  {
   "cell_type": "code",
   "execution_count": 40,
   "metadata": {},
   "outputs": [
    {
     "data": {
      "text/html": [
       "<div>\n",
       "<style scoped>\n",
       "    .dataframe tbody tr th:only-of-type {\n",
       "        vertical-align: middle;\n",
       "    }\n",
       "\n",
       "    .dataframe tbody tr th {\n",
       "        vertical-align: top;\n",
       "    }\n",
       "\n",
       "    .dataframe thead th {\n",
       "        text-align: right;\n",
       "    }\n",
       "</style>\n",
       "<table border=\"1\" class=\"dataframe\">\n",
       "  <thead>\n",
       "    <tr style=\"text-align: right;\">\n",
       "      <th></th>\n",
       "      <th>carat</th>\n",
       "      <th>cut</th>\n",
       "      <th>color</th>\n",
       "      <th>clarity</th>\n",
       "      <th>depth</th>\n",
       "      <th>table</th>\n",
       "      <th>price</th>\n",
       "      <th>x</th>\n",
       "      <th>y</th>\n",
       "      <th>z</th>\n",
       "    </tr>\n",
       "  </thead>\n",
       "  <tbody>\n",
       "    <tr>\n",
       "      <th>0</th>\n",
       "      <td>0.23</td>\n",
       "      <td>Ideal</td>\n",
       "      <td>1</td>\n",
       "      <td>3</td>\n",
       "      <td>61.5</td>\n",
       "      <td>55.0</td>\n",
       "      <td>326</td>\n",
       "      <td>3.95</td>\n",
       "      <td>3.98</td>\n",
       "      <td>2.43</td>\n",
       "    </tr>\n",
       "    <tr>\n",
       "      <th>1</th>\n",
       "      <td>0.21</td>\n",
       "      <td>Premium</td>\n",
       "      <td>1</td>\n",
       "      <td>2</td>\n",
       "      <td>59.8</td>\n",
       "      <td>61.0</td>\n",
       "      <td>326</td>\n",
       "      <td>3.89</td>\n",
       "      <td>3.84</td>\n",
       "      <td>2.31</td>\n",
       "    </tr>\n",
       "    <tr>\n",
       "      <th>2</th>\n",
       "      <td>0.23</td>\n",
       "      <td>Good</td>\n",
       "      <td>1</td>\n",
       "      <td>4</td>\n",
       "      <td>56.9</td>\n",
       "      <td>65.0</td>\n",
       "      <td>327</td>\n",
       "      <td>4.05</td>\n",
       "      <td>4.07</td>\n",
       "      <td>2.31</td>\n",
       "    </tr>\n",
       "    <tr>\n",
       "      <th>3</th>\n",
       "      <td>0.29</td>\n",
       "      <td>Premium</td>\n",
       "      <td>5</td>\n",
       "      <td>5</td>\n",
       "      <td>62.4</td>\n",
       "      <td>58.0</td>\n",
       "      <td>334</td>\n",
       "      <td>4.20</td>\n",
       "      <td>4.23</td>\n",
       "      <td>2.63</td>\n",
       "    </tr>\n",
       "    <tr>\n",
       "      <th>4</th>\n",
       "      <td>0.31</td>\n",
       "      <td>Good</td>\n",
       "      <td>6</td>\n",
       "      <td>3</td>\n",
       "      <td>63.3</td>\n",
       "      <td>58.0</td>\n",
       "      <td>335</td>\n",
       "      <td>4.34</td>\n",
       "      <td>4.35</td>\n",
       "      <td>2.75</td>\n",
       "    </tr>\n",
       "  </tbody>\n",
       "</table>\n",
       "</div>"
      ],
      "text/plain": [
       "   carat      cut  color  clarity  depth  table  price     x     y     z\n",
       "0   0.23    Ideal      1        3   61.5   55.0    326  3.95  3.98  2.43\n",
       "1   0.21  Premium      1        2   59.8   61.0    326  3.89  3.84  2.31\n",
       "2   0.23     Good      1        4   56.9   65.0    327  4.05  4.07  2.31\n",
       "3   0.29  Premium      5        5   62.4   58.0    334  4.20  4.23  2.63\n",
       "4   0.31     Good      6        3   63.3   58.0    335  4.34  4.35  2.75"
      ]
     },
     "metadata": {},
     "output_type": "display_data"
    }
   ],
   "source": [
    "# LabelEncoder für 'color' und 'clarity'\n",
    "le_color = LabelEncoder()\n",
    "le_clarity = LabelEncoder()\n",
    "\n",
    "# Label Encoding anwenden\n",
    "df['color'] = le_color.fit_transform(df['color'])\n",
    "df['clarity'] = le_clarity.fit_transform(df['clarity'])\n",
    "\n",
    "# Zeige das Ergebnis\n",
    "display(df.head())\n"
   ]
  },
  {
   "cell_type": "code",
   "execution_count": 41,
   "metadata": {},
   "outputs": [
    {
     "name": "stdout",
     "output_type": "stream",
     "text": [
      "\n",
      "Die Zielvariable 'cut' enthält folgende Ausprägungen: ['Ideal', 'Premium', 'Good', 'Very Good', 'Fair']\n",
      "\n",
      "Anzahl der verschiedenen Ausprägungen der Zielvariablen:\n",
      "cut\n",
      "Fair          1610\n",
      "Good          4906\n",
      "Ideal        21551\n",
      "Premium      13791\n",
      "Very Good    12082\n",
      "Name: count, dtype: Int64\n",
      "\n",
      "Inputdaten DataFrame: 9 Spalten und 53940 Zeilen\n",
      "\n",
      "Die Inputdaten sehen wie folgt aus:\n"
     ]
    },
    {
     "data": {
      "text/html": [
       "<div>\n",
       "<style scoped>\n",
       "    .dataframe tbody tr th:only-of-type {\n",
       "        vertical-align: middle;\n",
       "    }\n",
       "\n",
       "    .dataframe tbody tr th {\n",
       "        vertical-align: top;\n",
       "    }\n",
       "\n",
       "    .dataframe thead th {\n",
       "        text-align: right;\n",
       "    }\n",
       "</style>\n",
       "<table border=\"1\" class=\"dataframe\">\n",
       "  <thead>\n",
       "    <tr style=\"text-align: right;\">\n",
       "      <th></th>\n",
       "      <th>carat</th>\n",
       "      <th>color</th>\n",
       "      <th>clarity</th>\n",
       "      <th>depth</th>\n",
       "      <th>table</th>\n",
       "      <th>price</th>\n",
       "      <th>x</th>\n",
       "      <th>y</th>\n",
       "      <th>z</th>\n",
       "    </tr>\n",
       "  </thead>\n",
       "  <tbody>\n",
       "    <tr>\n",
       "      <th>0</th>\n",
       "      <td>0.23</td>\n",
       "      <td>1</td>\n",
       "      <td>3</td>\n",
       "      <td>61.5</td>\n",
       "      <td>55.0</td>\n",
       "      <td>326</td>\n",
       "      <td>3.95</td>\n",
       "      <td>3.98</td>\n",
       "      <td>2.43</td>\n",
       "    </tr>\n",
       "    <tr>\n",
       "      <th>1</th>\n",
       "      <td>0.21</td>\n",
       "      <td>1</td>\n",
       "      <td>2</td>\n",
       "      <td>59.8</td>\n",
       "      <td>61.0</td>\n",
       "      <td>326</td>\n",
       "      <td>3.89</td>\n",
       "      <td>3.84</td>\n",
       "      <td>2.31</td>\n",
       "    </tr>\n",
       "    <tr>\n",
       "      <th>2</th>\n",
       "      <td>0.23</td>\n",
       "      <td>1</td>\n",
       "      <td>4</td>\n",
       "      <td>56.9</td>\n",
       "      <td>65.0</td>\n",
       "      <td>327</td>\n",
       "      <td>4.05</td>\n",
       "      <td>4.07</td>\n",
       "      <td>2.31</td>\n",
       "    </tr>\n",
       "    <tr>\n",
       "      <th>3</th>\n",
       "      <td>0.29</td>\n",
       "      <td>5</td>\n",
       "      <td>5</td>\n",
       "      <td>62.4</td>\n",
       "      <td>58.0</td>\n",
       "      <td>334</td>\n",
       "      <td>4.20</td>\n",
       "      <td>4.23</td>\n",
       "      <td>2.63</td>\n",
       "    </tr>\n",
       "    <tr>\n",
       "      <th>4</th>\n",
       "      <td>0.31</td>\n",
       "      <td>6</td>\n",
       "      <td>3</td>\n",
       "      <td>63.3</td>\n",
       "      <td>58.0</td>\n",
       "      <td>335</td>\n",
       "      <td>4.34</td>\n",
       "      <td>4.35</td>\n",
       "      <td>2.75</td>\n",
       "    </tr>\n",
       "  </tbody>\n",
       "</table>\n",
       "</div>"
      ],
      "text/plain": [
       "   carat  color  clarity  depth  table  price     x     y     z\n",
       "0   0.23      1        3   61.5   55.0    326  3.95  3.98  2.43\n",
       "1   0.21      1        2   59.8   61.0    326  3.89  3.84  2.31\n",
       "2   0.23      1        4   56.9   65.0    327  4.05  4.07  2.31\n",
       "3   0.29      5        5   62.4   58.0    334  4.20  4.23  2.63\n",
       "4   0.31      6        3   63.3   58.0    335  4.34  4.35  2.75"
      ]
     },
     "metadata": {},
     "output_type": "display_data"
    },
    {
     "data": {
      "text/plain": [
       "{None}"
      ]
     },
     "execution_count": 41,
     "metadata": {},
     "output_type": "execute_result"
    }
   ],
   "source": [
    "# Zielvariable festlegen (cut) und in y speichern\n",
    "y = df['cut']\n",
    "\n",
    "print(f\"\\nDie Zielvariable 'cut' enthält folgende Ausprägungen: {y.unique().tolist()}\")\n",
    "print(f\"\\nAnzahl der verschiedenen Ausprägungen der Zielvariablen:\\n{y.value_counts().sort_index()}\")\n",
    "\n",
    "# Inputdaten DataFrame erstellen\n",
    "X = df.drop('cut', axis=1)\n",
    "print(f\"\\nInputdaten DataFrame: {X.shape[1]} Spalten und {X.shape[0]} Zeilen\")\n",
    "print(f\"\\nDie Inputdaten sehen wie folgt aus:\")\n",
    "{display(X.head())}"
   ]
  },
  {
   "cell_type": "code",
   "execution_count": 42,
   "metadata": {},
   "outputs": [
    {
     "data": {
      "text/plain": [
       "0    4\n",
       "1    3\n",
       "2    1\n",
       "3    3\n",
       "4    1\n",
       "Name: cut, dtype: int64"
      ]
     },
     "metadata": {},
     "output_type": "display_data"
    }
   ],
   "source": [
    "# Label Encoding\n",
    "# Die Zielvariable 'cut' wird in numerische Werte umgewandelt\n",
    "# Die einzelnen Werte von cut sind dann nicht mehr als Kategorien, sondern als Zahlen repräsentiert\n",
    "# Label Encoding ist notwendig, da so eine natürliche Ordnung der Kategorien hergestellt wird\n",
    "# Die Ordnung ist wie folgt: Fair < Good < Very Good < Premium < Ideal\n",
    "\n",
    "cut_mapping = {\n",
    "    'Fair': 0,\n",
    "    'Good': 1,\n",
    "    'Very Good': 2,\n",
    "    'Premium': 3,\n",
    "    'Ideal': 4\n",
    "}\n",
    "\n",
    "y = df['cut'].map(cut_mapping)\n",
    "\n",
    "display(y.head())\n"
   ]
  },
  {
   "cell_type": "code",
   "execution_count": 43,
   "metadata": {},
   "outputs": [],
   "source": [
    "# Aufteilung in Trainings- und Testdaten\n",
    "# 80% der Daten werden für das Training verwendet, 20% für das Testen (zufällige Aufteilung)\n",
    "# random_state wird auf 42 gesetzt, damit die Aufteilung reproduzierbar ist (immer die gleiche Aufteilung)\n",
    "X_train, X_test, y_train, y_test = train_test_split(X, y, test_size=0.2, random_state=42)\n"
   ]
  },
  {
   "cell_type": "code",
   "execution_count": null,
   "metadata": {},
   "outputs": [
    {
     "name": "stdout",
     "output_type": "stream",
     "text": [
      "Trainiere Random Forest Modell...\n"
     ]
    }
   ],
   "source": [
    "# RandomForestClassifier Modell erstellen und trainieren\n",
    "rf_model = RandomForestClassifier(n_estimators=500, random_state=42)\n",
    "# Modell trainieren\n",
    "print(\"Trainiere Random Forest Modell...\")\n",
    "rf_model.fit(X_train, y_train)\n"
   ]
  },
  {
   "cell_type": "code",
   "execution_count": null,
   "metadata": {},
   "outputs": [],
   "source": [
    "from sklearn.model_selection import GridSearchCV\n",
    "\n",
    "param_grid = {\n",
    "    'n_estimators': [100, 200, 300],\n",
    "    'max_depth': [None, 10, 20, 30],\n",
    "    'min_samples_split': [2, 5, 10],\n",
    "    'min_samples_leaf': [1, 2, 4],\n",
    "    'max_features': ['auto', 'sqrt', 'log2']\n",
    "}\n",
    "\n",
    "grid_search = GridSearchCV(estimator=RandomForestClassifier(random_state=42), param_grid=param_grid, cv=5, n_jobs=-1, verbose=2)\n",
    "grid_search.fit(X_train, y_train)\n",
    "print(f\"Best hyperparameters: {grid_search.best_params_}\")\n"
   ]
  },
  {
   "cell_type": "code",
   "execution_count": null,
   "metadata": {},
   "outputs": [
    {
     "name": "stdout",
     "output_type": "stream",
     "text": [
      "Test Accuracy (RF): 0.7814814814814814\n",
      "\n",
      "Detaillierter Bericht (RF):\n",
      "\n",
      "Mapping:{'Fair': 0, 'Good': 1, 'Very Good': 2, 'Premium': 3, 'Ideal': 4}\n",
      "\n",
      "              precision    recall  f1-score   support\n",
      "\n",
      "           0       0.92      0.86      0.89        14\n",
      "           1       0.79      0.77      0.78        44\n",
      "           2       0.73      0.56      0.63       124\n",
      "           3       0.79      0.79      0.79       139\n",
      "           4       0.78      0.90      0.84       219\n",
      "\n",
      "    accuracy                           0.78       540\n",
      "   macro avg       0.80      0.78      0.79       540\n",
      "weighted avg       0.78      0.78      0.78       540\n",
      "\n"
     ]
    }
   ],
   "source": [
    "# Vorhersagen machen\n",
    "# Trainiertes Modell wird auf die Testdaten angewendet\n",
    "y_predicted_test = rf_model.predict(X_test)       # Basierend auf den Testdaten wird der cut vorhergesagt\n",
    "\n",
    "# Bewertung\n",
    "print(\"Test Accuracy (RF):\", accuracy_score(y_test, y_predicted_test))        # Hier wird verglichen wie gut die Vorhersagen (y_predicted_test) mit den echten Werten (y_test) übereinstimmen\n",
    "\n",
    "# Detaillierter Bericht\n",
    "print(\"\\nDetaillierter Bericht (RF):\")\n",
    "#Ausgabe welche Klasse welcher index entspricht\n",
    "print(f\"\\nMapping:{cut_mapping}\\n\")\n",
    "print(classification_report(y_test, y_predicted_test))\n",
    "\n",
    "\n"
   ]
  },
  {
   "cell_type": "code",
   "execution_count": null,
   "metadata": {},
   "outputs": [
    {
     "data": {
      "image/png": "[encoded data removed]",
      "text/plain": [
       "<Figure size 1000x600 with 1 Axes>"
      ]
     },
     "metadata": {},
     "output_type": "display_data"
    }
   ],
   "source": [
    "\n",
    "# Feature Importance anzeigen\n",
    "importance = rf_model.feature_importances_\n",
    "feature_names = X.columns\n",
    "\n",
    "# Visualisierung der Feature Importance\n",
    "plt.figure(figsize=(10, 6))\n",
    "plt.barh(feature_names, importance)\n",
    "plt.xlabel('Feature Importance')\n",
    "plt.title('Feature Importance für den Random Forest')\n",
    "plt.show()\n"
   ]
  },
  {
   "cell_type": "code",
   "execution_count": null,
   "metadata": {},
   "outputs": [
    {
     "data": {
      "image/png": "[encoded data removed]",
      "text/plain": [
       "<Figure size 1000x600 with 1 Axes>"
      ]
     },
     "metadata": {},
     "output_type": "display_data"
    }
   ],
   "source": [
    "# Verteilung der Vorhersagen und tatsächlichen Werte\n",
    "results = pd.DataFrame({\n",
    "    'True': y_test,\n",
    "    'Predicted': y_predicted_test\n",
    "})\n",
    "\n",
    "# Zähle die korrekten und falschen Vorhersagen für jede Klasse\n",
    "class_distribution = pd.crosstab(results['True'], results['Predicted'], rownames=['True'], colnames=['Predicted'])\n",
    "class_distribution.plot(kind='bar', stacked=True, figsize=(10, 6))\n",
    "\n",
    "plt.title('Verteilung der Vorhersagen nach Klasse')\n",
    "plt.xlabel('Tatsächliche Klassen')\n",
    "plt.ylabel('Anzahl der Vorhersagen')\n",
    "plt.show()\n"
   ]
  },
  {
   "cell_type": "code",
   "execution_count": null,
   "metadata": {},
   "outputs": [
    {
     "data": {
      "image/png": "[encoded data removed]",
      "text/plain": [
       "<Figure size 800x600 with 1 Axes>"
      ]
     },
     "metadata": {},
     "output_type": "display_data"
    }
   ],
   "source": [
    "# Erstelle eine Kreuztabelle\n",
    "confusion_matrix = pd.crosstab(y_test, y_predicted_test, rownames=['Tatsächliche Werte'], colnames=['Vorhergesagte Werte'], margins=False)\n",
    "\n",
    "# Visualisiere die Kreuztabelle als Heatmap\n",
    "plt.figure(figsize=(8, 6))\n",
    "sns.heatmap(confusion_matrix, annot=True, fmt=\"d\", cmap=\"Blues\", cbar=False, annot_kws={\"size\": 12})\n",
    "\n",
    "# Titel und Achsenbeschriftungen\n",
    "plt.title('Confusion Matrix als Heatmap', fontsize=15)\n",
    "plt.ylabel('Tatsächliche Werte', fontsize=12)\n",
    "plt.xlabel('Vorhergesagte Werte', fontsize=12)\n",
    "\n",
    "# Zeige das Diagramm\n",
    "plt.show()\n"
   ]
  },
  {
   "cell_type": "markdown",
   "metadata": {},
   "source": [
    "Erklärung:\n",
    "- x-Achse die Werte die das Modell vorhergesagt hat\n",
    "- y-Achse die Anzahl der Werte in die Klasse, in welche es tatsächlich gehört\n",
    "\n",
    "Werte die auf Diagonale liegen passen\n",
    "\n",
    "Off-diaganol Werte passen nicht  \n",
    "Bsp. Unten links 2 Werte wurden zur Klasse 0 eingeordnet gehören aber tatsächlich zu Klasse 4  \n",
    "==> 2 Diamanten wurden zur Klasse Fair eingeteilt obwohl sie eigentlich Ideal sind"
   ]
  }
 ],
 "metadata": {
  "kernelspec": {
   "display_name": ".venv",
   "language": "python",
   "name": "python3"
  },
  "language_info": {
   "codemirror_mode": {
    "name": "ipython",
    "version": 3
   },
   "file_extension": ".py",
   "mimetype": "text/x-python",
   "name": "python",
   "nbconvert_exporter": "python",
   "pygments_lexer": "ipython3",
   "version": "3.10.0"
  }
 },
 "nbformat": 4,
 "nbformat_minor": 2
}
