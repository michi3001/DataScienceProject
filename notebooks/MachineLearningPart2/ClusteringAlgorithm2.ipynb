{
 "cells": [
  {
   "cell_type": "code",
   "execution_count": null,
   "metadata": {},
   "outputs": [],
   "source": [
    "# imports\n",
    "import pandas as pd\n",
    "import matplotlib.pyplot as plt\n",
    "from sklearn.cluster import DBSCAN\n",
    "from sklearn.preprocessing import StandardScaler"
   ]
  },
  {
   "cell_type": "code",
   "execution_count": null,
   "metadata": {},
   "outputs": [
    {
     "name": "stdout",
     "output_type": "stream",
     "text": [
      "The dataframe has the following structure:\n",
      "                   Data Type\n",
      "uniqueId               int64\n",
      "indicatorId            int64\n",
      "name                  object\n",
      "measure             category\n",
      "measureInfo         category\n",
      "geoTypeName         category\n",
      "geoJoinId              int64\n",
      "geoPlaceName          object\n",
      "timePeriod            object\n",
      "startDate     datetime64[ns]\n",
      "dataValue            float64\n"
     ]
    }
   ],
   "source": [
    "silent = True\n",
    "%run ../dataLoadAndPrepare.ipynb\n",
    "\n",
    "# Daten laden\n",
    "df = pd.read_csv(\"diamonds.csv\")\n",
    "\n",
    "# Nur die relevanten Features wählen\n",
    "features = ['carat', 'price']\n",
    "X = df[features]\n",
    "\n",
    "# Skalierung (DBSCAN ist empfindlich gegenüber Skalierung)\n",
    "scaler = StandardScaler()\n",
    "X_scaled = scaler.fit_transform(X)\n",
    "\n",
    "# DBSCAN anwenden (Parameter kannst du anpassen)\n",
    "dbscan = DBSCAN(eps=0.5, min_samples=10)  # eps bestimmt die Clustergröße\n",
    "df['Cluster'] = dbscan.fit_predict(X_scaled)\n",
    "\n",
    "# Scatterplot der Cluster\n",
    "plt.figure(figsize=(8,6))\n",
    "plt.scatter(df['carat'], df['price'], c=df['Cluster'], cmap='viridis', alpha=0.5)\n",
    "plt.xlabel(\"Karat\")\n",
    "plt.ylabel(\"Preis in $\")\n",
    "plt.title(\"DBSCAN Clustering: Karat vs. Preis\")\n",
    "plt.colorbar(label=\"Cluster\")\n",
    "plt.show()"
   ]
  }
 ],
 "metadata": {
  "kernelspec": {
   "display_name": ".venv",
   "language": "python",
   "name": "python3"
  },
  "language_info": {
   "codemirror_mode": {
    "name": "ipython",
    "version": 3
   },
   "file_extension": ".py",
   "mimetype": "text/x-python",
   "name": "python",
   "nbconvert_exporter": "python",
   "pygments_lexer": "ipython3",
   "version": "3.10.0"
  }
 },
 "nbformat": 4,
 "nbformat_minor": 2
}
