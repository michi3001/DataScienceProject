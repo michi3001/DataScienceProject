{
 "cells": [
  {
   "cell_type": "code",
   "execution_count": 1,
   "metadata": {},
   "outputs": [],
   "source": [
    "# imports"
   ]
  },
  {
   "cell_type": "code",
   "execution_count": 2,
   "metadata": {},
   "outputs": [
    {
     "name": "stdout",
     "output_type": "stream",
     "text": [
      "The dataframe has the following structure:\n",
      "                   Data Type\n",
      "uniqueId               int64\n",
      "indicatorId            int64\n",
      "name                  object\n",
      "measure             category\n",
      "measureInfo         category\n",
      "geoTypeName         category\n",
      "geoJoinId              int64\n",
      "geoPlaceName          object\n",
      "timePeriod            object\n",
      "startDate     datetime64[ns]\n",
      "dataValue            float64\n"
     ]
    }
   ],
   "source": [
    "silent = True\n",
    "%run ../dataLoadAndPrepare.ipynb"
   ]
  }
 ],
 "metadata": {
  "kernelspec": {
   "display_name": ".venv",
   "language": "python",
   "name": "python3"
  },
  "language_info": {
   "codemirror_mode": {
    "name": "ipython",
    "version": 3
   },
   "file_extension": ".py",
   "mimetype": "text/x-python",
   "name": "python",
   "nbconvert_exporter": "python",
   "pygments_lexer": "ipython3",
   "version": "3.10.0"
  }
 },
 "nbformat": 4,
 "nbformat_minor": 2
}
